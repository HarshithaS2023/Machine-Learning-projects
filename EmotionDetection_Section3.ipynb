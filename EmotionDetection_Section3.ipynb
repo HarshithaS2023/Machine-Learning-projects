{
  "nbformat": 4,
  "nbformat_minor": 0,
  "metadata": {
    "colab": {
      "provenance": [],
      "include_colab_link": true
    },
    "kernelspec": {
      "name": "python3",
      "display_name": "Python 3"
    },
    "accelerator": "GPU"
  },
  "cells": [
    {
      "cell_type": "markdown",
      "metadata": {
        "id": "view-in-github",
        "colab_type": "text"
      },
      "source": [
        "<a href=\"https://colab.research.google.com/github/HarshithaS2023/Machine-Learning-projects/blob/main/EmotionDetection_Section3.ipynb\" target=\"_parent\"><img src=\"https://colab.research.google.com/assets/colab-badge.svg\" alt=\"Open In Colab\"/></a>"
      ]
    },
    {
      "cell_type": "code",
      "metadata": {
        "id": "Qhr-G_92H2Bc",
        "colab": {
          "base_uri": "https://localhost:8080/"
        },
        "outputId": "57380dd3-133f-41ee-dc0a-f2a6d3ee48d6"
      },
      "source": [
        "#@title Run this to download data and prepare our environment!  { display-mode: \"form\" }\n",
        "\n",
        "import cv2\n",
        "import dlib\n",
        "import pickle\n",
        "import warnings\n",
        "import numpy as np\n",
        "import pandas as pd\n",
        "import seaborn as sns\n",
        "import itertools\n",
        "\n",
        "import urllib.request\n",
        "\n",
        "from sklearn import metrics\n",
        "from scipy.spatial import distance\n",
        "from sklearn.metrics import accuracy_score\n",
        "from matplotlib import pyplot as plt\n",
        "from tqdm import tqdm,tqdm_pandas\n",
        "from sklearn.preprocessing import StandardScaler\n",
        "from sklearn.model_selection import train_test_split\n",
        "\n",
        "import re\n",
        "import keras\n",
        "\n",
        "from keras.models import Sequential\n",
        "from tensorflow.keras.utils import to_categorical\n",
        "from tensorflow.keras.optimizers import Adam, SGD\n",
        "from keras.layers import Dense, Dropout, Activation, Flatten\n",
        "from keras.layers import Conv2D, MaxPooling2D, BatchNormalization\n",
        "from keras.losses import categorical_crossentropy\n",
        "from keras.regularizers import l2\n",
        "from keras.callbacks import EarlyStopping, ModelCheckpoint\n",
        "from keras.models import load_model\n",
        "\n",
        "# grab tools from our tensorflow and keras toolboxes!\n",
        "import tensorflow as tf\n",
        "from keras.models import Sequential\n",
        "from keras.layers import Activation, Dropout, Flatten, Dense\n",
        "from keras import optimizers\n",
        "\n",
        "warnings.filterwarnings(\"ignore\")\n",
        "def model_to_string(model):\n",
        "    import re\n",
        "    stringlist = []\n",
        "    model.summary(print_fn=lambda x: stringlist.append(x))\n",
        "    sms = \"\\n\".join(stringlist)\n",
        "    sms = re.sub('_\\d\\d\\d','', sms)\n",
        "    sms = re.sub('_\\d\\d','', sms)\n",
        "    sms = re.sub('_\\d','', sms)\n",
        "    return sms\n",
        "\n",
        "###Getting the csv data loaded\n",
        "!wget -q --show-progress \"https://storage.googleapis.com/inspirit-ai-data-bucket-1/Data/AI%20Scholars/Sessions%206%20-%2010%20(Projects)/Project%20-%20Emotion%20Detection/fer2013_5.csv\"\n",
        "\n",
        "###Getting the Dlib Shape predictor!\n",
        "!wget -q --show-progress \"https://storage.googleapis.com/inspirit-ai-data-bucket-1/Data/AI%20Scholars/Sessions%206%20-%2010%20(Projects)/Project%20-%20Emotion%20Detection/shape_predictor_68_face_landmarks.dat\"\n",
        "\n",
        "###Getting the Xpure loaded\n",
        "!wget -q --show-progress \"https://storage.googleapis.com/inspirit-ai-data-bucket-1/Data/AI%20Scholars/Sessions%206%20-%2010%20(Projects)/Project%20-%20Emotion%20Detection/pureX.npy\"\n",
        "\n",
        "###Getting the Xdata loaded\n",
        "!wget -q --show-progress -O ./dataX.npy \"https://storage.googleapis.com/inspirit-ai-data-bucket-1/Data/AI%20Scholars/Sessions%206%20-%2010%20(Projects)/Project%20-%20Emotion%20Detection/dataX_edited.npy\"\n",
        "\n",
        "###Getting the Ydata loaded\n",
        "!wget -q --show-progress \"https://storage.googleapis.com/inspirit-ai-data-bucket-1/Data/AI%20Scholars/Sessions%206%20-%2010%20(Projects)/Project%20-%20Emotion%20Detection/dataY.npy\"\n",
        "\n",
        "print (\"Data Downloaded!\")\n",
        "\n",
        "'''\n",
        "Plots the confusion Matrix and saves it\n",
        "'''\n",
        "def plot_confusion_matrix(y_true,y_predicted):\n",
        "  cm = metrics.confusion_matrix(y_true, y_predicted)\n",
        "  print (\"Plotting the Confusion Matrix\")\n",
        "  labels = list(label_map.values())\n",
        "  df_cm = pd.DataFrame(cm,index = labels,columns = labels)\n",
        "  fig = plt.figure()\n",
        "  res = sns.heatmap(df_cm, annot=True,cmap='Blues', fmt='g')\n",
        "  plt.yticks([0.5,1.5,2.5,3.5,4.5], labels,va='center')\n",
        "  plt.title('Confusion Matrix - TestData')\n",
        "  plt.ylabel('True label')\n",
        "  plt.xlabel('Predicted label')\n",
        "\n",
        "  plt.show()\n",
        "  plt.close()\n",
        "\n",
        "def plot_graphs(history, best):\n",
        "\n",
        "  plt.figure(figsize=[10,4])\n",
        "  # summarize history for accuracy\n",
        "  plt.subplot(121)\n",
        "  plt.plot(history.history['accuracy'])\n",
        "  plt.plot(history.history['val_accuracy'])\n",
        "  plt.title('model accuracy across training\\n best accuracy of %.02f'%best[1])\n",
        "  plt.ylabel('accuracy')\n",
        "  plt.xlabel('epoch')\n",
        "  plt.legend(['train', 'test'], loc='upper left')\n",
        "\n",
        "  # summarize history for loss\n",
        "  plt.subplot(122)\n",
        "  plt.plot(history.history['loss'])\n",
        "  plt.plot(history.history['val_loss'])\n",
        "  plt.title('model loss across training\\n best loss of %.02f'%best[0])\n",
        "  plt.ylabel('loss')\n",
        "  plt.xlabel('epoch')\n",
        "  plt.legend(['train', 'test'], loc='upper left')\n",
        "  plt.show()\n",
        "\n",
        "#Integer to Label Mapping\n",
        "label_map = {\"0\":\"ANGRY\",\"1\":\"HAPPY\",\"2\":\"SAD\",\"3\":\"SURPRISE\",\"4\":\"NEUTRAL\"}\n",
        "\n",
        "\n",
        "#Load the 68 face Landmark file\n",
        "predictor = dlib.shape_predictor('./shape_predictor_68_face_landmarks.dat')\n",
        "\"\"\"\n",
        "Returns facial landmarks for the given input image path\n",
        "\"\"\"\n",
        "def get_landmarks(image):\n",
        "\n",
        "\n",
        "  #:type image : cv2 object\n",
        "  #:rtype landmarks : list of tuples where each tuple represents\n",
        "  #                  the x and y co-ordinates of facial keypoints\n",
        "\n",
        "  #Bounding Box co-ordinates around the face(Training data is 48*48(cropped faces))\n",
        "  rects = [dlib.rectangle(left=1, top=1, right=47, bottom=47)]\n",
        "\n",
        "  #Read Image using OpenCV\n",
        "  #image = cv2.imread(image_path)\n",
        "  #Detect the Faces within the image\n",
        "  landmarks = [(p.x, p.y) for p in predictor(image, rects[0]).parts()]\n",
        "  return image,landmarks\n",
        "\n",
        "\"\"\"\n",
        "Display image with its Facial Landmarks\n",
        "\"\"\"\n",
        "def image_landmarks(image,face_landmarks):\n",
        "  \"\"\"\n",
        "  :type image_path : str\n",
        "  :type face_landmarks : list of tuples where each tuple represents\n",
        "                     the x and y co-ordinates of facial keypoints\n",
        "  :rtype : None\n",
        "  \"\"\"\n",
        "  radius = -4\n",
        "  circle_thickness = 1\n",
        "  image_copy = image.copy()\n",
        "  for (x, y) in face_landmarks:\n",
        "    cv2.circle(image_copy, (x, y), circle_thickness, (255,0,0), radius)\n",
        "\n",
        "  plt.imshow(image_copy, interpolation='nearest')\n",
        "  plt.show()\n",
        "\n",
        "\"\"\"\n",
        "Computes euclidean distance between 68 Landmark Points for our features\n",
        "e_dist is a list of features that will go into our model.\n",
        "Each feature is a distance between two landmark points, and every pair of points\n",
        "must have a feature.\n",
        "\"\"\"\n",
        "\n",
        "def landmarks_edist(face_landmarks):\n",
        "    e_dist = []\n",
        "    for i,j  in itertools.combinations(range(68), 2):\n",
        "      e_dist.append(distance.euclidean(face_landmarks[i],face_landmarks[j]))\n",
        "    return e_dist\n",
        "\n",
        "def compare_learning(mlp, lm, cnn, vgg): # there's one model missing: MLP from pixels\n",
        "\n",
        "  # summarize history for accuracy\n",
        "  plt.plot(vgg.history['val_accuracy'],)\n",
        "  plt.plot(cnn.history['val_accuracy'])\n",
        "  plt.plot(mlp.history['val_accuracy'],)\n",
        "  plt.plot(lm.history['val_accuracy'])\n",
        "  plt.ylabel('validitation accuracy')\n",
        "  plt.xlabel('epoch')\n",
        "  plt.legend(['cnn_transfer', 'cnn_scratch', 'mlp_pixels', 'mlp_landmarks'], bbox_to_anchor=[1,1])\n",
        "  plt.xticks(range(0, epochs+1, 5), range(0, epochs+1, 5))\n",
        "  plt.show()\n"
      ],
      "execution_count": 1,
      "outputs": [
        {
          "output_type": "stream",
          "name": "stdout",
          "text": [
            "fer2013_5.csv       100%[===================>] 159.97M   108MB/s    in 1.5s    \n",
            "shape_predictor_68_ 100%[===================>]  95.08M   102MB/s    in 0.9s    \n",
            "pureX.npy           100%[===================>]  43.95M   105MB/s    in 0.4s    \n",
            "./dataX.npy         100%[===================>] 347.59M  96.5MB/s    in 3.6s    \n",
            "dataY.npy           100%[===================>] 156.38K  --.-KB/s    in 0.002s  \n",
            "Data Downloaded!\n"
          ]
        }
      ]
    },
    {
      "cell_type": "code",
      "metadata": {
        "id": "jcpypKzI-ol0",
        "cellView": "form",
        "colab": {
          "base_uri": "https://localhost:8080/"
        },
        "outputId": "9d389952-cbbc-4538-975d-fd0e66e541f0"
      },
      "source": [
        "#@title If the previous code cell fails to download the data properly, please run this.\n",
        "import cv2\n",
        "import dlib\n",
        "import pickle\n",
        "import warnings\n",
        "import numpy as np\n",
        "import pandas as pd\n",
        "import seaborn as sns\n",
        "import urllib.request\n",
        "from sklearn import metrics\n",
        "from scipy.spatial import distance\n",
        "from matplotlib import pyplot as plt\n",
        "from sklearn.decomposition import PCA\n",
        "from sklearn.preprocessing import StandardScaler\n",
        "from sklearn.linear_model import LogisticRegression\n",
        "from sklearn.tree import DecisionTreeClassifier\n",
        "from sklearn.neighbors import KNeighborsClassifier\n",
        "from sklearn.model_selection import train_test_split\n",
        "import io\n",
        "\n",
        "###Getting the csv data loaded\n",
        "!wget -q --show-progress \"https://storage.googleapis.com/inspirit-ai-data-bucket-1/Data/AI%20Scholars/Sessions%206%20-%2010%20(Projects)/Project%20-%20Emotion%20Detection/fer2013_5.csv\"\n",
        "\n",
        "###Getting the Dlib Shape predictor!\n",
        "!wget -q --show-progress \"https://storage.googleapis.com/inspirit-ai-data-bucket-1/Data/AI%20Scholars/Sessions%206%20-%2010%20(Projects)/Project%20-%20Emotion%20Detection/shape_predictor_68_face_landmarks.dat\"\n",
        "\n",
        "###Getting the Xpure loaded\n",
        "!wget -q --show-progress \"https://storage.googleapis.com/inspirit-ai-data-bucket-1/Data/AI%20Scholars/Sessions%206%20-%2010%20(Projects)/Project%20-%20Emotion%20Detection/pureX.npy\"\n",
        "\n",
        "###Getting the Xdata loaded\n",
        "!wget -q --show-progress \"https://storage.googleapis.com/inspirit-ai-data-bucket-1/Data/AI%20Scholars/Sessions%206%20-%2010%20(Projects)/Project%20-%20Emotion%20Detection/dataX_edited.npy\"\n",
        "\n",
        "###Getting the Ydata loaded\n",
        "!wget -q --show-progress \"https://storage.googleapis.com/inspirit-ai-data-bucket-1/Data/AI%20Scholars/Sessions%206%20-%2010%20(Projects)/Project%20-%20Emotion%20Detection/dataY.npy\"\n",
        "\n",
        "print (\"Data Downloaded!\")"
      ],
      "execution_count": 2,
      "outputs": [
        {
          "output_type": "stream",
          "name": "stdout",
          "text": [
            "fer2013_5.csv.1     100%[===================>] 159.97M   120MB/s    in 1.3s    \n",
            "shape_predictor_68_ 100%[===================>]  95.08M   150MB/s    in 0.6s    \n",
            "pureX.npy.1         100%[===================>]  43.95M  97.1MB/s    in 0.5s    \n",
            "dataX_edited.npy    100%[===================>] 347.59M   114MB/s    in 3.0s    \n",
            "dataY.npy.1         100%[===================>] 156.38K  --.-KB/s    in 0.002s  \n",
            "Data Downloaded!\n"
          ]
        }
      ]
    },
    {
      "cell_type": "markdown",
      "metadata": {
        "id": "EIrowe2Atd1W"
      },
      "source": [
        "In this notebook we'll be:\n",
        "1.   Understanding and Building Neural Networks\n",
        "2.   Applying Neural Networks to Predict Emotions\n",
        "3.   Implementing CNNs for Emotion Detection\n",
        "4.   Implementing Transfer Learning\n",
        "\n"
      ]
    },
    {
      "cell_type": "markdown",
      "metadata": {
        "id": "xq10yh_OuVlg"
      },
      "source": [
        "#Understanding and building Neural Networks"
      ]
    },
    {
      "cell_type": "markdown",
      "metadata": {
        "id": "OOfhabJ_4hvE"
      },
      "source": [
        "A neural network is a series of algorithms that endeavors to recognize underlying relationships in a set of data through a process that mimics the way the human brain operates. Basically, the neural network algorithm helps computers think and learn like humans.\n",
        "\n",
        "The whole idea of artificial neural network is based on the concept of the structure and functions of a human brain. A human brain consists of neurons that process and transmit information between themselves."
      ]
    },
    {
      "cell_type": "markdown",
      "metadata": {
        "id": "4DcLenvXu7th"
      },
      "source": [
        "### Why try neural networks?"
      ]
    },
    {
      "cell_type": "markdown",
      "metadata": {
        "id": "s77Fm2CbvZi7"
      },
      "source": [
        "Our Baseline model performed at ~50 %\n",
        "\n",
        "Human accuracy for fer2013 is around 65 %, suggesting that we could do better!\n",
        "\n",
        "What we require now is a model that can capture more complicated patterns. One class of models that is able to do this and has been very effective for doing this for images are neural networks.\n",
        "\n"
      ]
    },
    {
      "cell_type": "markdown",
      "metadata": {
        "id": "ZB_uPibnv2UG"
      },
      "source": [
        "## Instructor-Led Discussion: Building networks\n",
        "\n",
        "To build neural networks in Python, we use the packages known as `tensorflow` and `keras`. Let's learn how to build and use these networks!\n",
        "\n",
        "Tensorflow calls the various machine learning algorithms that it uses 'models'.  These 'models' are 'learning machines.''\n",
        "\n",
        "1. We **teach** models by **training** them on **data**.\n",
        "2. We **use** models to **predict** things.\n",
        "\n",
        "Here is example code for building a Tensorflow model with Keras:"
      ]
    },
    {
      "cell_type": "markdown",
      "metadata": {
        "id": "RUtJ7_FkkPr-"
      },
      "source": [
        "The things you'll want to pay most attention to as we go over how to build networks are:\n",
        "1. The number of neurons\n",
        "2. The activation of the neurons\n",
        "3. The losses and metrics\n",
        "\n",
        "Everything else will work with the default settings!\n",
        "\n",
        "Let's walk though what each of these lines of code means!\n",
        "\n",
        "**1. Specify model**\n",
        "\n",
        "```\n",
        "model = Sequential()\n",
        "```\n",
        "In this line of code, we build our network where the information flows from LEFT to RIGHT through the network in ONE DIRECTION as opposed to multiple directions. Neurons on the right never pass information to neurons on the left of it.\n",
        "\n",
        "\n",
        "**2. Add layers to the network**\n",
        "```\n",
        "model.add(Dense(4,input_shape = (3,), activation = 'relu'))\n",
        "```\n",
        "In this line of code, we `add` a `layer` of neurons to our network.\n",
        "\n",
        "This layer consists of 4 neurons. Each neuron is DENSE and connects to all of the previous layer's inputs and all of the subsequent layers outputs. We specify that there are 3 inputs here.\n",
        "\n",
        "We also specify what kind of output the neuron will give. If you want the neuron to output a number between 0 and 1 (like a probability!) you would use 'softmax' or 'sigmoid'. If you want the neuron to output any number, you can use 'linear'! You'll also often see 'relu', which is when a neuron will only output positive numbers.\n",
        "\n",
        "```\n",
        "model.add(Dense(1, activation = 'linear'))\n",
        "```\n",
        "This code adds ANOTHER layer to the network that has 1 neuron. This one neuron is used to predict a continuous value!\n",
        "\n",
        "**3. Turn the model on by compiling it**\n",
        "\n",
        "After having built the network, we want to train and use it, so we have to 'turn it on' and 'compile' it. To turn it on, we have to specify at the very least, a loss, an optimizer, and some ways of evaluating the model (metrics). Don't worry too much about what this means! Just know that this is necessary.\n",
        "\n",
        "```\n",
        "model.compile(loss='mean_squared_error',\n",
        "               optimizer = 'adam',\n",
        "               metrics = ['accuracy'])\n",
        "  ```\n",
        "  \n",
        "  Once we've created our network, we can use it very simply! Just like we did with `sklearn`, we define our input data (x), the true predictions from that data (y), and then train our model with `fit`.\n",
        "\n",
        "```\n",
        "model.fit(x, y)\n",
        "```\n",
        "\n",
        "To use the model, you can use it to predict something with:\n",
        "```\n",
        "y = model.predict_classes(x)\n",
        "```\n",
        "\n"
      ]
    },
    {
      "cell_type": "markdown",
      "metadata": {
        "id": "FOpGG21Cwpgu"
      },
      "source": [
        "### For reference, this is a lot like the kind of models we've been training with scikit learn.\n",
        "\n",
        "The big difference is that defining the model is more involved. We can look at an example from KNN:\n",
        "\n",
        "```\n",
        "# define the model instance\n",
        "knn = KNeighborsClassifier()\n",
        "\n",
        "# train model with X_train\n",
        "knn.fit(X_train, y_train)\n",
        "\n",
        "# predict testing data\n",
        "y_predict = knn.predict(X_test)\n",
        "\n",
        "```"
      ]
    },
    {
      "cell_type": "markdown",
      "metadata": {
        "id": "YJXxWYXcwoGn"
      },
      "source": [
        "##Exercise: Coding a 2 hidden layer MLP\n",
        "\n",
        "Just as we went over last week, neural networks look something like this. This architecture is called the Multilayer Perceptron, or MLP for short, which has at least 3 layers (one input layer, one or more hidden layers, and one output layer):\n",
        "\n",
        "![A 2 layer neural network](https://cdn-images-1.medium.com/max/1600/1*DW0Ccmj1hZ0OvSXi7Kz5MQ.jpeg)\n",
        "\n",
        "Each orange and blue node is a neuron. The network itself is composed of a bunch of neurons that talk to each other and eventually give us a prediction. Let's get a bit more concrete with this..."
      ]
    },
    {
      "cell_type": "markdown",
      "metadata": {
        "id": "2MamYyRf16Ii"
      },
      "source": [
        "### How can we build this network above? Fill in the ___ 's below!"
      ]
    },
    {
      "cell_type": "code",
      "source": [
        "tmp_model_answer = Sequential()\n",
        "\n",
        "# then we add a \"Dense\" (i.e. fully connected) layer\n",
        "tmp_model_answer.add(Dense(7, input_shape=(5,), activation = 'relu')) # for the first layer we specify the input dimensions\n",
        "\n",
        "# then we have to add another layer\n",
        "tmp_model_answer.add(Dense(7, activation = 'relu'))\n",
        "\n",
        "# we end by defining the output layer, which has the number of dimensions of the predictions we're making\n",
        "tmp_model_answer.add(Dense(4, activation = 'softmax'))\n",
        "\n",
        "# we finalize the model by \"compiling\" it and defining some other hyperparameters\n",
        "tmp_model_answer.compile(loss='categorical_crossentropy', optimizer='adam', metrics=['accuracy'])\n",
        "\n",
        "\n",
        "tmp_model_config = tmp_model.get_config()\n",
        "\n",
        "del tmp_model_config[\"name\"]\n",
        "for layer in tmp_model_config[\"layers\"]:\n",
        "  del layer[\"config\"][\"name\"]\n",
        "\n",
        "tmp_model_answer_config = tmp_model_answer.get_config()\n",
        "\n",
        "del tmp_model_answer_config[\"name\"]\n",
        "for layer in tmp_model_answer_config[\"layers\"]:\n",
        "  del layer[\"config\"][\"name\"]\n",
        "\n",
        "if tmp_model_answer_config == tmp_model_config:\n",
        "  print('Good job! Your model worked')\n",
        "else:\n",
        "  print('Please check your code again!')"
      ],
      "metadata": {
        "colab": {
          "base_uri": "https://localhost:8080/"
        },
        "id": "v1stNJrU_5-j",
        "outputId": "ca86864e-2031-46f7-e1e7-b455391505dc"
      },
      "execution_count": 5,
      "outputs": [
        {
          "output_type": "stream",
          "name": "stdout",
          "text": [
            "Good job! Your model worked\n"
          ]
        }
      ]
    },
    {
      "cell_type": "markdown",
      "metadata": {
        "id": "-rrqPkJWVLOY"
      },
      "source": [
        "## Exercise: Building our custom neural network"
      ]
    },
    {
      "cell_type": "markdown",
      "metadata": {
        "id": "25DoFvA0VWnq"
      },
      "source": [
        "###Keypoints"
      ]
    },
    {
      "cell_type": "markdown",
      "metadata": {
        "id": "tchJVYOTVZAh"
      },
      "source": [
        "We will build a simple 3-layer network for our first model!\n",
        "\n",
        "\n",
        "For our model, we have as our layers:\n",
        "* Input Layer:  However many inputs there are!\n",
        "* Layer 1 (Hidden): 1024 neurons that are activated by `'relu'` and weights are intialized using `kernel_initializer='glorot_normal'`. Specify the input shape as `(2278,)`.\n",
        "* Layer 2 (Hidden): 512 neurons that are activated by `'relu'` and weights are intialized using `kernel_initializer='glorot_normal'`\n",
        "* Layer 3 (Output): 5 neurons that should have an appropriate activation.\n",
        "* We will compile with the `optimizer = SGD(learning_rate=0.001)` optimizer\n",
        "\n",
        "As a hint for the output activation and the compilation loss, we know that:\n",
        "* Multi-class classification problems require an output activation of `'softmax'` and a loss of `'categorical_crossentropy'`\n",
        "\n",
        "\n"
      ]
    },
    {
      "cell_type": "markdown",
      "metadata": {
        "id": "sv3U4FxbVyfs"
      },
      "source": [
        "###Build your Model (call it `perceptron`)"
      ]
    },
    {
      "cell_type": "code",
      "metadata": {
        "id": "WJh4klMtV3Q_"
      },
      "source": [
        "#YOUR CODE HERE\n",
        "\n",
        "#END CODE"
      ],
      "execution_count": 6,
      "outputs": []
    },
    {
      "cell_type": "code",
      "metadata": {
        "id": "xAbWGtkrqKaW",
        "cellView": "form"
      },
      "source": [
        "#@title Instructor Solution\n",
        "\n",
        "perceptron = Sequential()\n",
        "perceptron.add(Dense(units = 1024, input_shape = (2278,),kernel_initializer='glorot_normal',activation = 'relu'))\n",
        "perceptron.add(Dense(units = 512,kernel_initializer='glorot_normal' , activation = 'relu'))\n",
        "perceptron.add(Dense(units = 5, activation = 'softmax'))\n",
        "perceptron.compile(loss='categorical_crossentropy', optimizer=SGD(learning_rate=0.001), metrics=['accuracy'])\n"
      ],
      "execution_count": 7,
      "outputs": []
    },
    {
      "cell_type": "code",
      "metadata": {
        "id": "rWDzNTh9Wm0e",
        "colab": {
          "base_uri": "https://localhost:8080/"
        },
        "outputId": "00a81c38-4563-4207-bde7-e847cbdb407a"
      },
      "source": [
        "#@title Run this to test if your model is right! { display-mode: \"form\" }\n",
        "perceptron_answer = Sequential()\n",
        "perceptron_answer.add(Dense(units = 1024, input_shape = (2278,),kernel_initializer='glorot_normal',activation = 'relu'))\n",
        "perceptron_answer.add(Dense(units = 512,kernel_initializer='glorot_normal' , activation = 'relu'))\n",
        "perceptron_answer.add(Dense(units = 5, activation = 'softmax'))\n",
        "\n",
        "perceptron_answer.compile(\n",
        "    loss='categorical_crossentropy',\n",
        "    optimizer=SGD(learning_rate=0.001),\n",
        "    metrics=['accuracy'])\n",
        "\n",
        "if model_to_string(perceptron) == model_to_string(perceptron_answer):\n",
        "  print('Good job, you specified it correctly!')\n",
        "else:\n",
        "  print('Please check your code again!')"
      ],
      "execution_count": 8,
      "outputs": [
        {
          "output_type": "stream",
          "name": "stdout",
          "text": [
            "Please check your code again!\n"
          ]
        }
      ]
    },
    {
      "cell_type": "markdown",
      "metadata": {
        "id": "AgQEGSXJueyV"
      },
      "source": [
        "### Keras Neural Network Model Hyperparameters\n",
        "\n",
        "Neural Networks learn patterns from data, and their ability to make predictions depends on the quality and amount of training. They usually improve with more training, but if they train too much on the same data, they might become too specialized (called overfitting) and fail to make good predictions on new, unseen data.\n",
        "\n",
        "The `fit()` function is used to train neural networks. You don't need to worry about all the details, but here's what some of the main options mean:\n",
        "* `epochs`: This tells the model how many times to go through the entire training data set during training. It's like reading a textbook multiple times to understand it better.\n",
        "* `batch_size`: This controls how many examples the model looks at together while learning. It's like choosing whether to read a whole chapter or just a few pages at a time.\n",
        "* `shuffle`: This mixes up the training data so the model doesn't just memorize the order but actually learns from the content.\n",
        "* `validation_data`: This is like giving the model a pop quiz on different material (the `test_data`) to make sure it's really learning and not overfitting.\n",
        "* `callbacks`: This lets you give special instructions to the model during training, like saving the best version of itself for later use. As an example, we tell our model to save the best version of itself to a model file called `best_dnn_model.h5`.\n",
        "\n",
        "Remember, training a neural network is about finding the right balance and using the data effectively, so it doesn't just memorize the training manual but learns how to think and make predictions on its own."
      ]
    },
    {
      "cell_type": "markdown",
      "metadata": {
        "id": "oeb1iFnZw3W1"
      },
      "source": [
        "#Applying Neural Networks (MLPs) to predicting emotions"
      ]
    },
    {
      "cell_type": "markdown",
      "metadata": {
        "id": "kGdpkyMmqs-G"
      },
      "source": [
        "### Loading and formatting data for all models in notebook"
      ]
    },
    {
      "cell_type": "markdown",
      "metadata": {
        "id": "pf4GspMjAGoE"
      },
      "source": [
        "First, let's try to build a 4-Layer Neural Network  for our training data to achieve accuracy closer to the human accuracy on the dataset (around 65%)\n",
        "\n",
        "We want to identify the key things that we need to design our network.\n",
        "\n",
        "In your group, discuss:\n",
        "\n",
        "* What are our inputs?\n",
        "* What is/are our outputs?\n",
        "\n",
        "How could this look in a neural network diagram?\n",
        "\n",
        "**Show your instructor your diagram once you're done!!**"
      ]
    },
    {
      "cell_type": "markdown",
      "metadata": {
        "id": "G-hJkIeQthKl"
      },
      "source": [
        "##Activity: Train Neural Network on Emotion Dataset"
      ]
    },
    {
      "cell_type": "markdown",
      "metadata": {
        "id": "LDZqO4EMHeSZ"
      },
      "source": [
        "###Set some hyper parameters for all models"
      ]
    },
    {
      "cell_type": "code",
      "metadata": {
        "id": "284_6dNsHiS5"
      },
      "source": [
        "# the number of times we pass all the training data through the model\n",
        "epochs = 20\n",
        "# the number of examples we pass to the model at each time\n",
        "batch_size = 16\n",
        "# the proportion of testing data we set aside (e.g. 10%)\n",
        "test_ratio = .1\n",
        "# the number of emotion categories we have to predict\n",
        "n_labels = 5"
      ],
      "execution_count": 9,
      "outputs": []
    },
    {
      "cell_type": "markdown",
      "metadata": {
        "id": "gNJx9QCE8w8p"
      },
      "source": [
        "###Load the original (unprocessed) data saved on Day 2!"
      ]
    },
    {
      "cell_type": "code",
      "metadata": {
        "id": "oG7AIjf3xWBa"
      },
      "source": [
        "# load data\n",
        "dataX_pixels = np.load('pureX.npy')\n",
        "dataY_labels = np.load('dataY.npy')"
      ],
      "execution_count": 10,
      "outputs": []
    },
    {
      "cell_type": "markdown",
      "metadata": {
        "id": "7y6HwMAg85jx"
      },
      "source": [
        "### Convert labels to one-hot encoded labels\n",
        "\n",
        "One hot encoding is a representation of categorical variables as binary vectors"
      ]
    },
    {
      "cell_type": "code",
      "metadata": {
        "id": "qA_0acGq9AJN"
      },
      "source": [
        "# convert labels to one hot encoding\n",
        "y_onehot = to_categorical(dataY_labels, len(set(dataY_labels)))\n",
        "\n",
        "# what does this data type look like?"
      ],
      "execution_count": 11,
      "outputs": []
    },
    {
      "cell_type": "markdown",
      "source": [
        "<b>Discuss:</b>\n",
        "* What does our `y_onehot` variable look like?\n",
        "* Is it clear how these are two equivalent ways to represent the target?"
      ],
      "metadata": {
        "id": "Cun5Nr3CLkIv"
      }
    },
    {
      "cell_type": "markdown",
      "metadata": {
        "id": "1RodV9eQ71Yz"
      },
      "source": [
        "###Split and Standardize your Data\n",
        "\n"
      ]
    },
    {
      "cell_type": "code",
      "metadata": {
        "id": "cVO4wnTY7rRk"
      },
      "source": [
        "# split Data into Train, Test (90-10)\n",
        "X_train, X_test, y_train, y_test = train_test_split(dataX_pixels, y_onehot, test_size=test_ratio, random_state=42)\n",
        "\n",
        "#### Standardize the data ##########\n",
        "pixel_scaler = StandardScaler()\n",
        "pixel_scaler.fit(X_train)\n",
        "X_train = pixel_scaler.transform(X_train)\n",
        "X_test = pixel_scaler.transform(X_test)"
      ],
      "execution_count": 12,
      "outputs": []
    },
    {
      "cell_type": "markdown",
      "metadata": {
        "id": "iaQQkwNsHGSM"
      },
      "source": [
        "## Exercise: Build a simple MLP for emotion detection (call it `mlp_model`)\n"
      ]
    },
    {
      "cell_type": "code",
      "metadata": {
        "id": "QBk3kFJSgQJ0",
        "cellView": "both"
      },
      "source": [
        "#YOUR CODE HERE\n",
        "\n",
        "\n",
        "#END CODE"
      ],
      "execution_count": 13,
      "outputs": []
    },
    {
      "cell_type": "code",
      "metadata": {
        "id": "kd3tW-KysHH-",
        "colab": {
          "base_uri": "https://localhost:8080/"
        },
        "outputId": "506ac69b-955a-42f9-9b92-8a29b2724d2c"
      },
      "source": [
        "#@title Instructor Solution\n",
        "\n",
        "mlp_model = Sequential()\n",
        "mlp_model.add(Dense(5120, activation='relu',kernel_initializer='glorot_normal', input_shape=( X_train.shape[1]   ,)))\n",
        "mlp_model.add(Dropout(0.5))\n",
        "mlp_model.add(Dense(512,kernel_initializer='glorot_normal', activation='relu'))\n",
        "mlp_model.add(Dropout(0.5))\n",
        "mlp_model.add(Dense(256,kernel_initializer='glorot_normal', activation='relu'))\n",
        "mlp_model.add(Dropout(0.5))\n",
        "mlp_model.add(Dense(n_labels, activation='softmax'))\n",
        "\n",
        "mlp_model.summary()"
      ],
      "execution_count": 14,
      "outputs": [
        {
          "output_type": "stream",
          "name": "stdout",
          "text": [
            "Model: \"sequential_5\"\n",
            "_________________________________________________________________\n",
            " Layer (type)                Output Shape              Param #   \n",
            "=================================================================\n",
            " dense_12 (Dense)            (None, 5120)              11801600  \n",
            "                                                                 \n",
            " dropout (Dropout)           (None, 5120)              0         \n",
            "                                                                 \n",
            " dense_13 (Dense)            (None, 512)               2621952   \n",
            "                                                                 \n",
            " dropout_1 (Dropout)         (None, 512)               0         \n",
            "                                                                 \n",
            " dense_14 (Dense)            (None, 256)               131328    \n",
            "                                                                 \n",
            " dropout_2 (Dropout)         (None, 256)               0         \n",
            "                                                                 \n",
            " dense_15 (Dense)            (None, 5)                 1285      \n",
            "                                                                 \n",
            "=================================================================\n",
            "Total params: 14556165 (55.53 MB)\n",
            "Trainable params: 14556165 (55.53 MB)\n",
            "Non-trainable params: 0 (0.00 Byte)\n",
            "_________________________________________________________________\n"
          ]
        }
      ]
    },
    {
      "cell_type": "code",
      "metadata": {
        "id": "IwYofcaXzWVa",
        "colab": {
          "base_uri": "https://localhost:8080/"
        },
        "outputId": "56f7cefd-8476-4abd-ccb1-7564f1385bfb"
      },
      "source": [
        "# Compiling the model with SGD optimizer and categorical crossentropy loss\n",
        "mlp_model.compile(loss=categorical_crossentropy, optimizer=SGD(learning_rate=0.001), metrics=['accuracy'])\n",
        "\n",
        "#Saves the Best Model Based on Val Loss\n",
        "checkpoint = ModelCheckpoint('best_mlp_model.h5', verbose=1, monitor='val_loss', save_best_only=True,  mode='auto')\n",
        "\n",
        "#training the model\n",
        "mlp_history = mlp_model.fit(X_train, y_train, batch_size=batch_size, epochs=epochs, verbose=1,\n",
        "                            callbacks=[checkpoint], validation_data=(X_test, y_test), shuffle=True)"
      ],
      "execution_count": 15,
      "outputs": [
        {
          "output_type": "stream",
          "name": "stdout",
          "text": [
            "Epoch 1/20\n",
            "1119/1125 [============================>.] - ETA: 0s - loss: 1.8288 - accuracy: 0.2498\n",
            "Epoch 1: val_loss improved from inf to 1.53342, saving model to best_mlp_model.h5\n",
            "1125/1125 [==============================] - 10s 7ms/step - loss: 1.8278 - accuracy: 0.2498 - val_loss: 1.5334 - val_accuracy: 0.3235\n",
            "Epoch 2/20\n",
            "1121/1125 [============================>.] - ETA: 0s - loss: 1.6069 - accuracy: 0.2913\n",
            "Epoch 2: val_loss improved from 1.53342 to 1.51222, saving model to best_mlp_model.h5\n",
            "1125/1125 [==============================] - 6s 5ms/step - loss: 1.6071 - accuracy: 0.2913 - val_loss: 1.5122 - val_accuracy: 0.3550\n",
            "Epoch 3/20\n",
            "1117/1125 [============================>.] - ETA: 0s - loss: 1.5572 - accuracy: 0.3078\n",
            "Epoch 3: val_loss improved from 1.51222 to 1.49353, saving model to best_mlp_model.h5\n",
            "1125/1125 [==============================] - 7s 6ms/step - loss: 1.5570 - accuracy: 0.3080 - val_loss: 1.4935 - val_accuracy: 0.3660\n",
            "Epoch 4/20\n",
            "1116/1125 [============================>.] - ETA: 0s - loss: 1.5310 - accuracy: 0.3238\n",
            "Epoch 4: val_loss improved from 1.49353 to 1.48176, saving model to best_mlp_model.h5\n",
            "1125/1125 [==============================] - 6s 6ms/step - loss: 1.5303 - accuracy: 0.3238 - val_loss: 1.4818 - val_accuracy: 0.3775\n",
            "Epoch 5/20\n",
            "1118/1125 [============================>.] - ETA: 0s - loss: 1.5056 - accuracy: 0.3317\n",
            "Epoch 5: val_loss improved from 1.48176 to 1.47264, saving model to best_mlp_model.h5\n",
            "1125/1125 [==============================] - 7s 6ms/step - loss: 1.5056 - accuracy: 0.3315 - val_loss: 1.4726 - val_accuracy: 0.3800\n",
            "Epoch 6/20\n",
            "1124/1125 [============================>.] - ETA: 0s - loss: 1.4884 - accuracy: 0.3499\n",
            "Epoch 6: val_loss improved from 1.47264 to 1.45997, saving model to best_mlp_model.h5\n",
            "1125/1125 [==============================] - 8s 7ms/step - loss: 1.4885 - accuracy: 0.3499 - val_loss: 1.4600 - val_accuracy: 0.3935\n",
            "Epoch 7/20\n",
            "1123/1125 [============================>.] - ETA: 0s - loss: 1.4747 - accuracy: 0.3537\n",
            "Epoch 7: val_loss improved from 1.45997 to 1.45179, saving model to best_mlp_model.h5\n",
            "1125/1125 [==============================] - 7s 6ms/step - loss: 1.4749 - accuracy: 0.3536 - val_loss: 1.4518 - val_accuracy: 0.4015\n",
            "Epoch 8/20\n",
            "1122/1125 [============================>.] - ETA: 0s - loss: 1.4573 - accuracy: 0.3661\n",
            "Epoch 8: val_loss improved from 1.45179 to 1.44488, saving model to best_mlp_model.h5\n",
            "1125/1125 [==============================] - 7s 6ms/step - loss: 1.4574 - accuracy: 0.3661 - val_loss: 1.4449 - val_accuracy: 0.4080\n",
            "Epoch 9/20\n",
            "1116/1125 [============================>.] - ETA: 0s - loss: 1.4518 - accuracy: 0.3662\n",
            "Epoch 9: val_loss improved from 1.44488 to 1.43449, saving model to best_mlp_model.h5\n",
            "1125/1125 [==============================] - 6s 6ms/step - loss: 1.4513 - accuracy: 0.3663 - val_loss: 1.4345 - val_accuracy: 0.4130\n",
            "Epoch 10/20\n",
            "1120/1125 [============================>.] - ETA: 0s - loss: 1.4415 - accuracy: 0.3782\n",
            "Epoch 10: val_loss improved from 1.43449 to 1.43017, saving model to best_mlp_model.h5\n",
            "1125/1125 [==============================] - 7s 6ms/step - loss: 1.4416 - accuracy: 0.3779 - val_loss: 1.4302 - val_accuracy: 0.4190\n",
            "Epoch 11/20\n",
            "1118/1125 [============================>.] - ETA: 0s - loss: 1.4318 - accuracy: 0.3772\n",
            "Epoch 11: val_loss improved from 1.43017 to 1.42100, saving model to best_mlp_model.h5\n",
            "1125/1125 [==============================] - 6s 5ms/step - loss: 1.4323 - accuracy: 0.3769 - val_loss: 1.4210 - val_accuracy: 0.4210\n",
            "Epoch 12/20\n",
            "1122/1125 [============================>.] - ETA: 0s - loss: 1.4208 - accuracy: 0.3904\n",
            "Epoch 12: val_loss improved from 1.42100 to 1.41313, saving model to best_mlp_model.h5\n",
            "1125/1125 [==============================] - 8s 7ms/step - loss: 1.4213 - accuracy: 0.3898 - val_loss: 1.4131 - val_accuracy: 0.4230\n",
            "Epoch 13/20\n",
            "1123/1125 [============================>.] - ETA: 0s - loss: 1.4104 - accuracy: 0.3985\n",
            "Epoch 13: val_loss improved from 1.41313 to 1.40265, saving model to best_mlp_model.h5\n",
            "1125/1125 [==============================] - 7s 6ms/step - loss: 1.4104 - accuracy: 0.3985 - val_loss: 1.4027 - val_accuracy: 0.4310\n",
            "Epoch 14/20\n",
            "1115/1125 [============================>.] - ETA: 0s - loss: 1.4024 - accuracy: 0.3994\n",
            "Epoch 14: val_loss improved from 1.40265 to 1.39611, saving model to best_mlp_model.h5\n",
            "1125/1125 [==============================] - 7s 6ms/step - loss: 1.4025 - accuracy: 0.3996 - val_loss: 1.3961 - val_accuracy: 0.4275\n",
            "Epoch 15/20\n",
            "1117/1125 [============================>.] - ETA: 0s - loss: 1.4009 - accuracy: 0.4036\n",
            "Epoch 15: val_loss improved from 1.39611 to 1.39133, saving model to best_mlp_model.h5\n",
            "1125/1125 [==============================] - 6s 5ms/step - loss: 1.4006 - accuracy: 0.4036 - val_loss: 1.3913 - val_accuracy: 0.4365\n",
            "Epoch 16/20\n",
            "1118/1125 [============================>.] - ETA: 0s - loss: 1.3837 - accuracy: 0.4101\n",
            "Epoch 16: val_loss improved from 1.39133 to 1.38068, saving model to best_mlp_model.h5\n",
            "1125/1125 [==============================] - 7s 6ms/step - loss: 1.3837 - accuracy: 0.4103 - val_loss: 1.3807 - val_accuracy: 0.4295\n",
            "Epoch 17/20\n",
            "1119/1125 [============================>.] - ETA: 0s - loss: 1.3780 - accuracy: 0.4138\n",
            "Epoch 17: val_loss improved from 1.38068 to 1.37638, saving model to best_mlp_model.h5\n",
            "1125/1125 [==============================] - 6s 5ms/step - loss: 1.3781 - accuracy: 0.4135 - val_loss: 1.3764 - val_accuracy: 0.4350\n",
            "Epoch 18/20\n",
            "1117/1125 [============================>.] - ETA: 0s - loss: 1.3665 - accuracy: 0.4177\n",
            "Epoch 18: val_loss improved from 1.37638 to 1.36820, saving model to best_mlp_model.h5\n",
            "1125/1125 [==============================] - 7s 6ms/step - loss: 1.3668 - accuracy: 0.4175 - val_loss: 1.3682 - val_accuracy: 0.4375\n",
            "Epoch 19/20\n",
            "1116/1125 [============================>.] - ETA: 0s - loss: 1.3633 - accuracy: 0.4178\n",
            "Epoch 19: val_loss improved from 1.36820 to 1.36489, saving model to best_mlp_model.h5\n",
            "1125/1125 [==============================] - 6s 5ms/step - loss: 1.3627 - accuracy: 0.4183 - val_loss: 1.3649 - val_accuracy: 0.4365\n",
            "Epoch 20/20\n",
            "1118/1125 [============================>.] - ETA: 0s - loss: 1.3549 - accuracy: 0.4283\n",
            "Epoch 20: val_loss improved from 1.36489 to 1.36147, saving model to best_mlp_model.h5\n",
            "1125/1125 [==============================] - 7s 6ms/step - loss: 1.3549 - accuracy: 0.4286 - val_loss: 1.3615 - val_accuracy: 0.4445\n"
          ]
        }
      ]
    },
    {
      "cell_type": "markdown",
      "metadata": {
        "id": "qF0MmGV8Lm7y"
      },
      "source": [
        "##Neural Network Model Evaluation on pixel inputs"
      ]
    },
    {
      "cell_type": "markdown",
      "metadata": {
        "id": "ORXi0y71t3o8"
      },
      "source": [
        "###Evaluate best model"
      ]
    },
    {
      "cell_type": "code",
      "metadata": {
        "id": "DnjfotXoth4e",
        "colab": {
          "base_uri": "https://localhost:8080/"
        },
        "outputId": "a9e6479e-9ef6-47fa-e1af-6653c1e60ef8"
      },
      "source": [
        "mlp_performance = mlp_model.evaluate(X_test, y_test, batch_size=64)"
      ],
      "execution_count": 28,
      "outputs": [
        {
          "output_type": "stream",
          "name": "stdout",
          "text": [
            "32/32 [==============================] - 0s 3ms/step - loss: 1.3615 - accuracy: 0.4445\n"
          ]
        }
      ]
    },
    {
      "cell_type": "markdown",
      "metadata": {
        "id": "3vgEP7OnGlR9"
      },
      "source": [
        "###Visualize accuracy and loss over training + display best model's performance"
      ]
    },
    {
      "cell_type": "code",
      "metadata": {
        "id": "ktHNwzn0G73y",
        "colab": {
          "base_uri": "https://localhost:8080/",
          "height": 431
        },
        "outputId": "90ad8a60-9357-423a-f495-35192d84f02c"
      },
      "source": [
        "plot_graphs(mlp_history, mlp_performance);"
      ],
      "execution_count": 17,
      "outputs": [
        {
          "output_type": "display_data",
          "data": {
            "text/plain": [
              "<Figure size 1000x400 with 2 Axes>"
            ],
            "image/png": "[encoded data removed]"
          },
          "metadata": {}
        }
      ]
    },
    {
      "cell_type": "markdown",
      "metadata": {
        "id": "oPeyL20OFzjN"
      },
      "source": [
        "###Plot the Confusion Matrix"
      ]
    },
    {
      "cell_type": "code",
      "metadata": {
        "id": "MgkxPwg2F7eL",
        "colab": {
          "base_uri": "https://localhost:8080/",
          "height": 507
        },
        "outputId": "d2606ece-40c6-401b-a342-1f11f9af4d8b"
      },
      "source": [
        "y_pred_mlp = mlp_model.predict(X_test)\n",
        "y_pred_mlp_classes = np.argmax(y_pred_mlp, axis=1)\n",
        "y_true = np.argmax(y_test,axis=1)\n",
        "plot_confusion_matrix(y_true, y_pred_mlp_classes)"
      ],
      "execution_count": 18,
      "outputs": [
        {
          "output_type": "stream",
          "name": "stdout",
          "text": [
            "63/63 [==============================] - 0s 2ms/step\n",
            "Plotting the Confusion Matrix\n"
          ]
        },
        {
          "output_type": "display_data",
          "data": {
            "text/plain": [
              "<Figure size 640x480 with 2 Axes>"
            ],
            "image/png": "[encoded data removed]"
          },
          "metadata": {}
        }
      ]
    },
    {
      "cell_type": "markdown",
      "metadata": {
        "id": "XqLIJTjW0JE_"
      },
      "source": [
        "##Neural Network Model Evaluation on distance inputs\n",
        "\n",
        "We saw yesterday that building a model on the distances between facial landmarks did better than on raw pixel inputs, is this true for these models as well? (Note: we'll use the term LM for landmarks in our variable names)\n",
        "\n",
        "Run the cell below to split and standardize your distance inputs!"
      ]
    },
    {
      "cell_type": "code",
      "metadata": {
        "id": "k-aKmK6e0a4J"
      },
      "source": [
        "#Load the data (Distances between facial Landmarks)\n",
        "dataX_lm = np.load('./dataX.npy')\n",
        "\n",
        "# split Data into Train, Test (90-10)\n",
        "X_train_lm, X_test_lm, y_train_lm, y_test_lm = train_test_split(dataX_lm, y_onehot, test_size=0.1, random_state=42)\n",
        "\n",
        "#### Standardize the data #####\n",
        "lm_scaler = StandardScaler()\n",
        "lm_scaler.fit(X_train_lm)\n",
        "X_train_lm = lm_scaler.transform(X_train_lm)\n",
        "X_test_lm = lm_scaler.transform(X_test_lm)"
      ],
      "execution_count": 19,
      "outputs": []
    },
    {
      "cell_type": "markdown",
      "source": [
        "Build your model (call it `lm_model`) below:"
      ],
      "metadata": {
        "id": "R2_Cm8LXs6nz"
      }
    },
    {
      "cell_type": "code",
      "metadata": {
        "id": "OPub4NX31R3q"
      },
      "source": [
        "#YOUR CODE HERE"
      ],
      "execution_count": 20,
      "outputs": []
    },
    {
      "cell_type": "code",
      "metadata": {
        "id": "2Euf6f2ysAaX",
        "cellView": "form"
      },
      "source": [
        "#@title Instructor Solution\n",
        "lm_model = Sequential()\n",
        "lm_model.add(Dense(5120, activation='relu',kernel_initializer='glorot_normal', input_shape=( X_train_lm.shape[1]   ,)))\n",
        "lm_model.add(Dropout(0.2))\n",
        "lm_model.add(Dense(512,kernel_initializer='glorot_normal', activation='relu'))\n",
        "lm_model.add(Dropout(0.2))\n",
        "lm_model.add(Dense(256,kernel_initializer='glorot_normal', activation='relu'))\n",
        "lm_model.add(Dropout(0.2))\n",
        "lm_model.add(Dense(n_labels, activation='softmax'))"
      ],
      "execution_count": 21,
      "outputs": []
    },
    {
      "cell_type": "code",
      "metadata": {
        "id": "_QEUcTxh7Ara",
        "colab": {
          "base_uri": "https://localhost:8080/"
        },
        "outputId": "c78f78a1-ba2a-41ad-f749-48c9c9325d17"
      },
      "source": [
        "# Compiling the model with SGD optimizer and categorical crossentropy loss\n",
        "lm_model.compile(loss=categorical_crossentropy, optimizer=SGD(learning_rate=0.001), metrics=['accuracy'])\n",
        "\n",
        "#Saves the Best Model Based on Val Loss\n",
        "checkpoint = ModelCheckpoint('best_lm_model.h5', verbose=1, monitor='val_loss', save_best_only=True,  mode='auto')\n",
        "#training the model\n",
        "lm_history = lm_model.fit(X_train_lm, y_train_lm, batch_size=batch_size, epochs=epochs,\n",
        "                          verbose=1, callbacks=[checkpoint], validation_data=(X_test_lm, y_test_lm), shuffle=True)"
      ],
      "execution_count": 22,
      "outputs": [
        {
          "output_type": "stream",
          "name": "stdout",
          "text": [
            "Epoch 1/20\n",
            "1119/1125 [============================>.] - ETA: 0s - loss: 1.3829 - accuracy: 0.4178\n",
            "Epoch 1: val_loss improved from inf to 1.25499, saving model to best_lm_model.h5\n",
            "1125/1125 [==============================] - 7s 6ms/step - loss: 1.3827 - accuracy: 0.4181 - val_loss: 1.2550 - val_accuracy: 0.4720\n",
            "Epoch 2/20\n",
            "1119/1125 [============================>.] - ETA: 0s - loss: 1.2765 - accuracy: 0.4718\n",
            "Epoch 2: val_loss improved from 1.25499 to 1.21697, saving model to best_lm_model.h5\n",
            "1125/1125 [==============================] - 7s 6ms/step - loss: 1.2759 - accuracy: 0.4723 - val_loss: 1.2170 - val_accuracy: 0.5025\n",
            "Epoch 3/20\n",
            "1124/1125 [============================>.] - ETA: 0s - loss: 1.2430 - accuracy: 0.4900\n",
            "Epoch 3: val_loss improved from 1.21697 to 1.20226, saving model to best_lm_model.h5\n",
            "1125/1125 [==============================] - 7s 6ms/step - loss: 1.2429 - accuracy: 0.4900 - val_loss: 1.2023 - val_accuracy: 0.5180\n",
            "Epoch 4/20\n",
            "1117/1125 [============================>.] - ETA: 0s - loss: 1.2215 - accuracy: 0.4974\n",
            "Epoch 4: val_loss improved from 1.20226 to 1.19369, saving model to best_lm_model.h5\n",
            "1125/1125 [==============================] - 7s 6ms/step - loss: 1.2218 - accuracy: 0.4974 - val_loss: 1.1937 - val_accuracy: 0.5145\n",
            "Epoch 5/20\n",
            "1115/1125 [============================>.] - ETA: 0s - loss: 1.2016 - accuracy: 0.5114\n",
            "Epoch 5: val_loss improved from 1.19369 to 1.17905, saving model to best_lm_model.h5\n",
            "1125/1125 [==============================] - 6s 5ms/step - loss: 1.2023 - accuracy: 0.5111 - val_loss: 1.1791 - val_accuracy: 0.5235\n",
            "Epoch 6/20\n",
            "1125/1125 [==============================] - ETA: 0s - loss: 1.1877 - accuracy: 0.5192\n",
            "Epoch 6: val_loss improved from 1.17905 to 1.17334, saving model to best_lm_model.h5\n",
            "1125/1125 [==============================] - 7s 6ms/step - loss: 1.1877 - accuracy: 0.5192 - val_loss: 1.1733 - val_accuracy: 0.5250\n",
            "Epoch 7/20\n",
            "1119/1125 [============================>.] - ETA: 0s - loss: 1.1749 - accuracy: 0.5236\n",
            "Epoch 7: val_loss improved from 1.17334 to 1.15542, saving model to best_lm_model.h5\n",
            "1125/1125 [==============================] - 6s 5ms/step - loss: 1.1752 - accuracy: 0.5234 - val_loss: 1.1554 - val_accuracy: 0.5315\n",
            "Epoch 8/20\n",
            "1124/1125 [============================>.] - ETA: 0s - loss: 1.1651 - accuracy: 0.5246\n",
            "Epoch 8: val_loss did not improve from 1.15542\n",
            "1125/1125 [==============================] - 7s 6ms/step - loss: 1.1651 - accuracy: 0.5246 - val_loss: 1.1557 - val_accuracy: 0.5305\n",
            "Epoch 9/20\n",
            "1120/1125 [============================>.] - ETA: 0s - loss: 1.1583 - accuracy: 0.5330\n",
            "Epoch 9: val_loss improved from 1.15542 to 1.14809, saving model to best_lm_model.h5\n",
            "1125/1125 [==============================] - 6s 5ms/step - loss: 1.1584 - accuracy: 0.5331 - val_loss: 1.1481 - val_accuracy: 0.5345\n",
            "Epoch 10/20\n",
            "1118/1125 [============================>.] - ETA: 0s - loss: 1.1425 - accuracy: 0.5378\n",
            "Epoch 10: val_loss improved from 1.14809 to 1.14506, saving model to best_lm_model.h5\n",
            "1125/1125 [==============================] - 7s 6ms/step - loss: 1.1425 - accuracy: 0.5377 - val_loss: 1.1451 - val_accuracy: 0.5405\n",
            "Epoch 11/20\n",
            "1124/1125 [============================>.] - ETA: 0s - loss: 1.1358 - accuracy: 0.5408\n",
            "Epoch 11: val_loss improved from 1.14506 to 1.14075, saving model to best_lm_model.h5\n",
            "1125/1125 [==============================] - 7s 6ms/step - loss: 1.1358 - accuracy: 0.5408 - val_loss: 1.1408 - val_accuracy: 0.5350\n",
            "Epoch 12/20\n",
            "1121/1125 [============================>.] - ETA: 0s - loss: 1.1281 - accuracy: 0.5450\n",
            "Epoch 12: val_loss improved from 1.14075 to 1.13497, saving model to best_lm_model.h5\n",
            "1125/1125 [==============================] - 8s 7ms/step - loss: 1.1277 - accuracy: 0.5453 - val_loss: 1.1350 - val_accuracy: 0.5390\n",
            "Epoch 13/20\n",
            "1123/1125 [============================>.] - ETA: 0s - loss: 1.1157 - accuracy: 0.5524\n",
            "Epoch 13: val_loss improved from 1.13497 to 1.13326, saving model to best_lm_model.h5\n",
            "1125/1125 [==============================] - 6s 6ms/step - loss: 1.1156 - accuracy: 0.5525 - val_loss: 1.1333 - val_accuracy: 0.5385\n",
            "Epoch 14/20\n",
            "1119/1125 [============================>.] - ETA: 0s - loss: 1.1146 - accuracy: 0.5491\n",
            "Epoch 14: val_loss improved from 1.13326 to 1.12889, saving model to best_lm_model.h5\n",
            "1125/1125 [==============================] - 12s 11ms/step - loss: 1.1144 - accuracy: 0.5491 - val_loss: 1.1289 - val_accuracy: 0.5400\n",
            "Epoch 15/20\n",
            "1119/1125 [============================>.] - ETA: 0s - loss: 1.1082 - accuracy: 0.5541\n",
            "Epoch 15: val_loss did not improve from 1.12889\n",
            "1125/1125 [==============================] - 7s 6ms/step - loss: 1.1079 - accuracy: 0.5542 - val_loss: 1.1300 - val_accuracy: 0.5440\n",
            "Epoch 16/20\n",
            "1118/1125 [============================>.] - ETA: 0s - loss: 1.1003 - accuracy: 0.5587\n",
            "Epoch 16: val_loss did not improve from 1.12889\n",
            "1125/1125 [==============================] - 8s 7ms/step - loss: 1.1001 - accuracy: 0.5591 - val_loss: 1.1311 - val_accuracy: 0.5460\n",
            "Epoch 17/20\n",
            "1119/1125 [============================>.] - ETA: 0s - loss: 1.0963 - accuracy: 0.5565\n",
            "Epoch 17: val_loss improved from 1.12889 to 1.12493, saving model to best_lm_model.h5\n",
            "1125/1125 [==============================] - 7s 6ms/step - loss: 1.0961 - accuracy: 0.5563 - val_loss: 1.1249 - val_accuracy: 0.5480\n",
            "Epoch 18/20\n",
            "1116/1125 [============================>.] - ETA: 0s - loss: 1.0886 - accuracy: 0.5613\n",
            "Epoch 18: val_loss improved from 1.12493 to 1.12266, saving model to best_lm_model.h5\n",
            "1125/1125 [==============================] - 11s 9ms/step - loss: 1.0888 - accuracy: 0.5614 - val_loss: 1.1227 - val_accuracy: 0.5475\n",
            "Epoch 19/20\n",
            "1119/1125 [============================>.] - ETA: 0s - loss: 1.0847 - accuracy: 0.5661\n",
            "Epoch 19: val_loss improved from 1.12266 to 1.11598, saving model to best_lm_model.h5\n",
            "1125/1125 [==============================] - 6s 6ms/step - loss: 1.0842 - accuracy: 0.5661 - val_loss: 1.1160 - val_accuracy: 0.5550\n",
            "Epoch 20/20\n",
            "1122/1125 [============================>.] - ETA: 0s - loss: 1.0731 - accuracy: 0.5693\n",
            "Epoch 20: val_loss improved from 1.11598 to 1.11354, saving model to best_lm_model.h5\n",
            "1125/1125 [==============================] - 7s 6ms/step - loss: 1.0735 - accuracy: 0.5691 - val_loss: 1.1135 - val_accuracy: 0.5555\n"
          ]
        }
      ]
    },
    {
      "cell_type": "markdown",
      "metadata": {
        "id": "Xb2ruZoq1YPO"
      },
      "source": [
        "### Evaluate model"
      ]
    },
    {
      "cell_type": "code",
      "metadata": {
        "id": "DHJgB4-vufZO",
        "cellView": "form",
        "colab": {
          "base_uri": "https://localhost:8080/"
        },
        "outputId": "6560671d-4497-4ff5-d203-d8a99f33860c"
      },
      "source": [
        "#@title Instructor Solution\n",
        "lm_performance = lm_model.evaluate(X_test_lm, y_test, batch_size=64)"
      ],
      "execution_count": 24,
      "outputs": [
        {
          "output_type": "stream",
          "name": "stdout",
          "text": [
            "32/32 [==============================] - 0s 3ms/step - loss: 1.1135 - accuracy: 0.5555\n"
          ]
        }
      ]
    },
    {
      "cell_type": "markdown",
      "metadata": {
        "id": "yj3XDT2eu31x"
      },
      "source": [
        "###Visualize accuracy and loss over training + display best model's performance"
      ]
    },
    {
      "cell_type": "code",
      "metadata": {
        "id": "kG1V_8AIs9Xf"
      },
      "source": [
        "# YOUR CODE HERE"
      ],
      "execution_count": 25,
      "outputs": []
    },
    {
      "cell_type": "code",
      "metadata": {
        "id": "Myvv42CmsQOa",
        "cellView": "form",
        "colab": {
          "base_uri": "https://localhost:8080/",
          "height": 431
        },
        "outputId": "87ba6ff7-f53f-4c33-d7c5-683aadff7b68"
      },
      "source": [
        "#@title Instructor Solution\n",
        "plot_graphs(lm_history, lm_performance)"
      ],
      "execution_count": 26,
      "outputs": [
        {
          "output_type": "display_data",
          "data": {
            "text/plain": [
              "<Figure size 1000x400 with 2 Axes>"
            ],
            "image/png": "[encoded data removed]"
          },
          "metadata": {}
        }
      ]
    },
    {
      "cell_type": "markdown",
      "metadata": {
        "id": "1Xk6GHxUgiY6"
      },
      "source": [
        "## Instructor-Led Discussion\n",
        "\n",
        "What are some differences between the our pixel input model and our distance input model?"
      ]
    },
    {
      "cell_type": "markdown",
      "metadata": {
        "id": "lX9zvfvrAtrj"
      },
      "source": [
        "#Convolutional Neural Networks for Emotion Detection!"
      ]
    },
    {
      "cell_type": "markdown",
      "metadata": {
        "id": "jXuDr1x1CZYP"
      },
      "source": [
        "###Model Hyperparameters"
      ]
    },
    {
      "cell_type": "code",
      "metadata": {
        "id": "OvPqbBy8Cc1G"
      },
      "source": [
        "# we'll use the same epochs and batch size as above\n",
        "width, height = 48, 48"
      ],
      "execution_count": 27,
      "outputs": []
    },
    {
      "cell_type": "markdown",
      "metadata": {
        "id": "wTH-IlrL0HVE"
      },
      "source": [
        "###Reshape the inputs"
      ]
    },
    {
      "cell_type": "code",
      "metadata": {
        "id": "DwTlyCBk6FOd",
        "colab": {
          "base_uri": "https://localhost:8080/"
        },
        "outputId": "73077150-afb4-473e-a0e7-f873d04bed54"
      },
      "source": [
        "# pixels were vectors\n",
        "print(X_train.shape)"
      ],
      "execution_count": 29,
      "outputs": [
        {
          "output_type": "stream",
          "name": "stdout",
          "text": [
            "(18000, 2304)\n"
          ]
        }
      ]
    },
    {
      "cell_type": "code",
      "metadata": {
        "id": "NNSP1-vz6Lnk",
        "colab": {
          "base_uri": "https://localhost:8080/"
        },
        "outputId": "46778c59-f4dc-4bd5-f89b-d4b2009cc491"
      },
      "source": [
        "X_train_cnn = X_train.reshape(len(X_train),height,width)\n",
        "X_test_cnn = X_test.reshape(len(X_test),height,width)\n",
        "\n",
        "# we've converted them to images\n",
        "print(X_train_cnn.shape)\n",
        "# now we add one more dimension for model compatibility\n",
        "print(X_test_cnn.shape)\n"
      ],
      "execution_count": 30,
      "outputs": [
        {
          "output_type": "stream",
          "name": "stdout",
          "text": [
            "(18000, 48, 48)\n",
            "(2000, 48, 48)\n"
          ]
        }
      ]
    },
    {
      "cell_type": "code",
      "metadata": {
        "id": "RFP5S57i69o7",
        "colab": {
          "base_uri": "https://localhost:8080/"
        },
        "outputId": "eb67fb8c-742f-4405-df75-3c411a93a201"
      },
      "source": [
        "# now we add one more dimension for model compatibility\n",
        "X_train_cnn = np.expand_dims(X_train_cnn,3)\n",
        "X_test_cnn = np.expand_dims(X_test_cnn,3)\n",
        "\n",
        "print(X_train_cnn.shape)"
      ],
      "execution_count": 31,
      "outputs": [
        {
          "output_type": "stream",
          "name": "stdout",
          "text": [
            "(18000, 48, 48, 1)\n"
          ]
        }
      ]
    },
    {
      "cell_type": "markdown",
      "source": [
        "### Build our model\n",
        "Change the hyperparameters in the model below and feel free to add more layers!"
      ],
      "metadata": {
        "id": "RkGSeDG9vwho"
      }
    },
    {
      "cell_type": "code",
      "metadata": {
        "id": "fnI75Z1yDylH",
        "cellView": "both"
      },
      "source": [
        "# initialize model\n",
        "cnn_model = Sequential()\n",
        "# this conv layer has 64 filters! the input shape needs to be the same dimensions of the image\n",
        "cnn_model.add(Conv2D(64, kernel_size=(3, 3), activation='relu', input_shape=(width, height, 1)))\n",
        "# batch normalization\n",
        "cnn_model.add(BatchNormalization())\n",
        "# max pooling\n",
        "cnn_model.add(MaxPooling2D(pool_size=(2, 2), strides=(2, 2)))\n",
        "# dropout\n",
        "cnn_model.add(Dropout(0.5))\n",
        "\n",
        "#YOUR CODE HERE\n",
        "#YOUR CODE HERE\n",
        "#YOUR CODE HERE\n",
        "#YOUR CODE HERE\n",
        "############### ADD MORE LAYERS\n",
        "#YOUR CODE HERE\n",
        "#YOUR CODE HERE\n",
        "#YOUR CODE HERE\n",
        "#YOUR CODE HERE\n",
        "\n",
        "# flatten all the outputs between convolutional and dense layers\n",
        "cnn_model.add(Flatten())\n",
        "# add a \"dense layer\" (i.e. the fully connected layers in MLPs) with dropout\n",
        "cnn_model.add(Dense(512, activation='relu'))\n",
        "# output layer\n",
        "cnn_model.add(Dense(n_labels, activation='softmax'))"
      ],
      "execution_count": 32,
      "outputs": []
    },
    {
      "cell_type": "code",
      "metadata": {
        "id": "7BI-tl-evqPC",
        "cellView": "form"
      },
      "source": [
        "#@title Instructor Solution\n",
        "\n",
        "# pedagogically, it's probably a good idea to not use this model, but it's nice to have in case\n",
        "# comparing the basic model above with transfer learning more clearly motivates that approach\n",
        "\n",
        "cnn_model = Sequential()\n",
        "\n",
        "cnn_model.add(Conv2D(64, kernel_size=(3, 3), activation='relu', input_shape=(width, height, 1), kernel_regularizer=l2(0.01)))\n",
        "cnn_model.add(Conv2D(64, kernel_size=(3, 3), activation='relu', padding='same'))\n",
        "cnn_model.add(BatchNormalization())\n",
        "cnn_model.add(MaxPooling2D(pool_size=(2, 2), strides=(2, 2)))\n",
        "cnn_model.add(Dropout(0.5))\n",
        "\n",
        "cnn_model.add(Conv2D(128, kernel_size=(3, 3), activation='relu', padding='same'))\n",
        "cnn_model.add(BatchNormalization())\n",
        "cnn_model.add(Conv2D(128, kernel_size=(3, 3), activation='relu', padding='same'))\n",
        "cnn_model.add(BatchNormalization())\n",
        "cnn_model.add(MaxPooling2D(pool_size=(2, 2), strides=(2, 2)))\n",
        "cnn_model.add(Dropout(0.5))\n",
        "\n",
        "cnn_model.add(Conv2D(256, kernel_size=(3, 3), activation='relu', padding='same'))\n",
        "cnn_model.add(BatchNormalization())\n",
        "cnn_model.add(Conv2D(256, kernel_size=(3, 3), activation='relu', padding='same'))\n",
        "cnn_model.add(BatchNormalization())\n",
        "cnn_model.add(MaxPooling2D(pool_size=(2, 2), strides=(2, 2)))\n",
        "cnn_model.add(Dropout(0.5))\n",
        "\n",
        "cnn_model.add(Conv2D(512, kernel_size=(3, 3), activation='relu', padding='same'))\n",
        "cnn_model.add(BatchNormalization())\n",
        "cnn_model.add(Conv2D(512, kernel_size=(3, 3), activation='relu', padding='same'))\n",
        "cnn_model.add(BatchNormalization())\n",
        "cnn_model.add(MaxPooling2D(pool_size=(2, 2), strides=(2, 2)))\n",
        "cnn_model.add(Dropout(0.5))\n",
        "\n",
        "cnn_model.add(Flatten())\n",
        "\n",
        "cnn_model.add(Dense(512, activation='relu'))\n",
        "cnn_model.add(Dropout(0.4))\n",
        "cnn_model.add(Dense(256, activation='relu'))\n",
        "cnn_model.add(Dropout(0.4))\n",
        "cnn_model.add(Dense(128, activation='relu'))\n",
        "cnn_model.add(Dropout(0.5))\n",
        "cnn_model.add(Dense(n_labels, activation='softmax'))\n"
      ],
      "execution_count": 33,
      "outputs": []
    },
    {
      "cell_type": "code",
      "metadata": {
        "id": "YqirnWL8wDGR",
        "colab": {
          "base_uri": "https://localhost:8080/"
        },
        "outputId": "794e89c3-f484-40ed-d3b7-3b74d8cd1d4f"
      },
      "source": [
        "#Saves the Best Model Based on Val Loss\n",
        "checkpoint = ModelCheckpoint('best_cnn_model.h5', verbose=1, monitor='val_loss',save_best_only=True, mode='auto')\n",
        "\n",
        "# compliling the model with adam optimizer and categorical crossentropy loss\n",
        "cnn_model.compile(loss=categorical_crossentropy, optimizer=Adam(learning_rate=0.001, beta_1=0.9, beta_2=0.999), metrics=['accuracy'])\n",
        "\n",
        "# training the model\n",
        "cnn_history = cnn_model.fit(X_train_cnn, y_train, batch_size=batch_size, epochs=epochs, verbose=1,\n",
        "                            callbacks=[checkpoint], validation_data=(X_test_cnn, y_test), shuffle=True)"
      ],
      "execution_count": 34,
      "outputs": [
        {
          "output_type": "stream",
          "name": "stdout",
          "text": [
            "Epoch 1/20\n",
            "1123/1125 [============================>.] - ETA: 0s - loss: 1.7637 - accuracy: 0.2173\n",
            "Epoch 1: val_loss improved from inf to 1.62279, saving model to best_cnn_model.h5\n",
            "1125/1125 [==============================] - 32s 20ms/step - loss: 1.7633 - accuracy: 0.2174 - val_loss: 1.6228 - val_accuracy: 0.2105\n",
            "Epoch 2/20\n",
            "1125/1125 [==============================] - ETA: 0s - loss: 1.6038 - accuracy: 0.2451\n",
            "Epoch 2: val_loss improved from 1.62279 to 1.55763, saving model to best_cnn_model.h5\n",
            "1125/1125 [==============================] - 23s 20ms/step - loss: 1.6038 - accuracy: 0.2451 - val_loss: 1.5576 - val_accuracy: 0.2635\n",
            "Epoch 3/20\n",
            "1124/1125 [============================>.] - ETA: 0s - loss: 1.5107 - accuracy: 0.2945\n",
            "Epoch 3: val_loss improved from 1.55763 to 1.41266, saving model to best_cnn_model.h5\n",
            "1125/1125 [==============================] - 23s 20ms/step - loss: 1.5106 - accuracy: 0.2945 - val_loss: 1.4127 - val_accuracy: 0.3275\n",
            "Epoch 4/20\n",
            "1125/1125 [==============================] - ETA: 0s - loss: 1.4563 - accuracy: 0.3299\n",
            "Epoch 4: val_loss did not improve from 1.41266\n",
            "1125/1125 [==============================] - 23s 20ms/step - loss: 1.4563 - accuracy: 0.3299 - val_loss: 1.4586 - val_accuracy: 0.3145\n",
            "Epoch 5/20\n",
            "1123/1125 [============================>.] - ETA: 0s - loss: 1.4260 - accuracy: 0.3422\n",
            "Epoch 5: val_loss improved from 1.41266 to 1.35073, saving model to best_cnn_model.h5\n",
            "1125/1125 [==============================] - 22s 20ms/step - loss: 1.4261 - accuracy: 0.3422 - val_loss: 1.3507 - val_accuracy: 0.4180\n",
            "Epoch 6/20\n",
            "1125/1125 [==============================] - ETA: 0s - loss: 1.4060 - accuracy: 0.3714\n",
            "Epoch 6: val_loss improved from 1.35073 to 1.27555, saving model to best_cnn_model.h5\n",
            "1125/1125 [==============================] - 26s 23ms/step - loss: 1.4060 - accuracy: 0.3714 - val_loss: 1.2756 - val_accuracy: 0.4530\n",
            "Epoch 7/20\n",
            "1125/1125 [==============================] - ETA: 0s - loss: 1.3500 - accuracy: 0.4099\n",
            "Epoch 7: val_loss did not improve from 1.27555\n",
            "1125/1125 [==============================] - 23s 20ms/step - loss: 1.3500 - accuracy: 0.4099 - val_loss: 1.2886 - val_accuracy: 0.4450\n",
            "Epoch 8/20\n",
            "1124/1125 [============================>.] - ETA: 0s - loss: 1.2962 - accuracy: 0.4385\n",
            "Epoch 8: val_loss improved from 1.27555 to 1.20275, saving model to best_cnn_model.h5\n",
            "1125/1125 [==============================] - 23s 20ms/step - loss: 1.2962 - accuracy: 0.4384 - val_loss: 1.2028 - val_accuracy: 0.4675\n",
            "Epoch 9/20\n",
            "1123/1125 [============================>.] - ETA: 0s - loss: 1.2546 - accuracy: 0.4548\n",
            "Epoch 9: val_loss improved from 1.20275 to 1.19807, saving model to best_cnn_model.h5\n",
            "1125/1125 [==============================] - 23s 21ms/step - loss: 1.2547 - accuracy: 0.4548 - val_loss: 1.1981 - val_accuracy: 0.4620\n",
            "Epoch 10/20\n",
            "1125/1125 [==============================] - ETA: 0s - loss: 1.2298 - accuracy: 0.4632\n",
            "Epoch 10: val_loss improved from 1.19807 to 1.14597, saving model to best_cnn_model.h5\n",
            "1125/1125 [==============================] - 22s 20ms/step - loss: 1.2298 - accuracy: 0.4632 - val_loss: 1.1460 - val_accuracy: 0.4915\n",
            "Epoch 11/20\n",
            "1124/1125 [============================>.] - ETA: 0s - loss: 1.1860 - accuracy: 0.4763\n",
            "Epoch 11: val_loss improved from 1.14597 to 1.11086, saving model to best_cnn_model.h5\n",
            "1125/1125 [==============================] - 24s 21ms/step - loss: 1.1861 - accuracy: 0.4761 - val_loss: 1.1109 - val_accuracy: 0.5090\n",
            "Epoch 12/20\n",
            "1123/1125 [============================>.] - ETA: 0s - loss: 1.1776 - accuracy: 0.4784\n",
            "Epoch 12: val_loss improved from 1.11086 to 1.11004, saving model to best_cnn_model.h5\n",
            "1125/1125 [==============================] - 23s 20ms/step - loss: 1.1773 - accuracy: 0.4783 - val_loss: 1.1100 - val_accuracy: 0.5175\n",
            "Epoch 13/20\n",
            "1123/1125 [============================>.] - ETA: 0s - loss: 1.1626 - accuracy: 0.4870\n",
            "Epoch 13: val_loss did not improve from 1.11004\n",
            "1125/1125 [==============================] - 23s 20ms/step - loss: 1.1627 - accuracy: 0.4868 - val_loss: 1.1504 - val_accuracy: 0.4695\n",
            "Epoch 14/20\n",
            "1125/1125 [==============================] - ETA: 0s - loss: 1.1383 - accuracy: 0.4948\n",
            "Epoch 14: val_loss improved from 1.11004 to 1.08656, saving model to best_cnn_model.h5\n",
            "1125/1125 [==============================] - 23s 21ms/step - loss: 1.1383 - accuracy: 0.4948 - val_loss: 1.0866 - val_accuracy: 0.5240\n",
            "Epoch 15/20\n",
            "1125/1125 [==============================] - ETA: 0s - loss: 1.1201 - accuracy: 0.5062\n",
            "Epoch 15: val_loss did not improve from 1.08656\n",
            "1125/1125 [==============================] - 22s 20ms/step - loss: 1.1201 - accuracy: 0.5062 - val_loss: 1.1189 - val_accuracy: 0.5325\n",
            "Epoch 16/20\n",
            "1125/1125 [==============================] - ETA: 0s - loss: 1.1040 - accuracy: 0.5225\n",
            "Epoch 16: val_loss improved from 1.08656 to 1.05990, saving model to best_cnn_model.h5\n",
            "1125/1125 [==============================] - 23s 20ms/step - loss: 1.1040 - accuracy: 0.5225 - val_loss: 1.0599 - val_accuracy: 0.5460\n",
            "Epoch 17/20\n",
            "1123/1125 [============================>.] - ETA: 0s - loss: 1.0787 - accuracy: 0.5416\n",
            "Epoch 17: val_loss improved from 1.05990 to 1.05109, saving model to best_cnn_model.h5\n",
            "1125/1125 [==============================] - 23s 21ms/step - loss: 1.0786 - accuracy: 0.5417 - val_loss: 1.0511 - val_accuracy: 0.5875\n",
            "Epoch 18/20\n",
            "1123/1125 [============================>.] - ETA: 0s - loss: 1.0479 - accuracy: 0.5551\n",
            "Epoch 18: val_loss did not improve from 1.05109\n",
            "1125/1125 [==============================] - 22s 20ms/step - loss: 1.0477 - accuracy: 0.5550 - val_loss: 1.0551 - val_accuracy: 0.5775\n",
            "Epoch 19/20\n",
            "1124/1125 [============================>.] - ETA: 0s - loss: 1.0251 - accuracy: 0.5698\n",
            "Epoch 19: val_loss improved from 1.05109 to 1.01672, saving model to best_cnn_model.h5\n",
            "1125/1125 [==============================] - 23s 21ms/step - loss: 1.0252 - accuracy: 0.5698 - val_loss: 1.0167 - val_accuracy: 0.5885\n",
            "Epoch 20/20\n",
            "1123/1125 [============================>.] - ETA: 0s - loss: 1.0054 - accuracy: 0.5882\n",
            "Epoch 20: val_loss improved from 1.01672 to 1.00070, saving model to best_cnn_model.h5\n",
            "1125/1125 [==============================] - 23s 20ms/step - loss: 1.0054 - accuracy: 0.5882 - val_loss: 1.0007 - val_accuracy: 0.6120\n"
          ]
        }
      ]
    },
    {
      "cell_type": "markdown",
      "metadata": {
        "id": "wXprpaHpxVb-"
      },
      "source": [
        "###Evaluate the model"
      ]
    },
    {
      "cell_type": "code",
      "metadata": {
        "id": "JvCbnwZ_CBYv"
      },
      "source": [
        "# YOUR CODE HERE"
      ],
      "execution_count": 35,
      "outputs": []
    },
    {
      "cell_type": "code",
      "metadata": {
        "id": "_EvfxQd4Ar1w",
        "colab": {
          "base_uri": "https://localhost:8080/"
        },
        "outputId": "66e436fc-97c3-49fe-d252-aa3c0ea1af63"
      },
      "source": [
        "#@title Instructor Solution\n",
        "cnn_performance = cnn_model.evaluate(X_test_cnn, y_test, batch_size=64)"
      ],
      "execution_count": 36,
      "outputs": [
        {
          "output_type": "stream",
          "name": "stdout",
          "text": [
            "32/32 [==============================] - 2s 13ms/step - loss: 1.0007 - accuracy: 0.6120\n"
          ]
        }
      ]
    },
    {
      "cell_type": "markdown",
      "metadata": {
        "id": "cDmHi_05BKnr"
      },
      "source": [
        "###Plot Accuracy and Loss"
      ]
    },
    {
      "cell_type": "code",
      "metadata": {
        "id": "YdRZz5w2ixwO"
      },
      "source": [
        "# YOUR CODE HERE"
      ],
      "execution_count": 37,
      "outputs": []
    },
    {
      "cell_type": "code",
      "metadata": {
        "id": "Aa7mkwxgAxkX",
        "cellView": "form",
        "colab": {
          "base_uri": "https://localhost:8080/",
          "height": 431
        },
        "outputId": "fe50083c-f51a-4c8b-f815-4a9ead5022fb"
      },
      "source": [
        "#@title Instructor Solution\n",
        "plot_graphs(cnn_history, cnn_performance)"
      ],
      "execution_count": 38,
      "outputs": [
        {
          "output_type": "display_data",
          "data": {
            "text/plain": [
              "<Figure size 1000x400 with 2 Axes>"
            ],
            "image/png": "[encoded data removed]"
          },
          "metadata": {}
        }
      ]
    },
    {
      "cell_type": "markdown",
      "metadata": {
        "id": "hzLSZVH0jdG0"
      },
      "source": [
        "## Instructor-Led Discussion\n",
        "\n",
        "How does this model compare with the others? Did this perform as well as we wanted it to? What might be some of the reasons why?"
      ]
    },
    {
      "cell_type": "markdown",
      "metadata": {
        "id": "_eqKTSlRmEGF"
      },
      "source": [
        "#Transfer Learning"
      ]
    },
    {
      "cell_type": "code",
      "metadata": {
        "id": "OPpE58jJmIdY",
        "colab": {
          "base_uri": "https://localhost:8080/",
          "height": 384
        },
        "outputId": "9dc906f0-c214-4728-c334-c3d3454c1d76"
      },
      "source": [
        "#@title Run this to build your transfer learning model { display-mode: \"form\" }\n",
        "\n",
        "import keras\n",
        "from keras.models import Sequential\n",
        "from keras.layers import Activation, MaxPooling2D, Dropout, Flatten, Reshape, Dense, Conv2D, GlobalAveragePooling2D\n",
        "from keras.wrappers.scikit_learn import KerasClassifier\n",
        "from keras.applications.vgg16 import VGG16\n",
        "\n",
        "# load the vgg network that is an 'expert' at 'imagenet' but do not include the FC layers\n",
        "vgg_expert = VGG16(weights = 'imagenet', include_top = False, input_shape = (48, 48, 3))\n",
        "\n",
        "# we add the first 12 layers of vgg to our own model vgg_model\n",
        "vgg_model = Sequential()\n",
        "vgg_model.add(vgg_expert)\n",
        "\n",
        "# and then add our own layers on top of it\n",
        "vgg_model.add(GlobalAveragePooling2D())\n",
        "vgg_model.add(Dense(1024, activation = 'relu'))\n",
        "vgg_model.add(Dropout(0.3))\n",
        "vgg_model.add(Dense(512, activation = 'relu'))\n",
        "vgg_model.add(Dropout(0.3))\n",
        "vgg_model.add(Dense(5, activation = 'sigmoid'))\n",
        "\n",
        "# finally, we build the vgg model and turn it on so we can use it!\n",
        "vgg_model.compile(loss = 'categorical_crossentropy',\n",
        "          optimizer = SGD(learning_rate=1e-4, momentum=0.95),\n",
        "          metrics=['accuracy'])\n",
        "\n",
        "X_TRAIN = np.array([np.transpose(np.array([X_train_cnn[ix].squeeze() for i in range(3)]), (1,2,0)) for ix in range(len(X_train))])\n",
        "X_TEST = np.array([np.transpose(np.array([X_test_cnn[ix].squeeze() for i in range(3)]), (1,2,0)) for ix in range(len(X_test))])\n",
        "\n",
        "#training the model\n",
        "vgg_history = vgg_model.fit(X_TRAIN, y_train,\n",
        "          batch_size=batch_size,\n",
        "          epochs=epochs,\n",
        "          verbose=1,\n",
        "          callbacks=[checkpoint],\n",
        "          validation_data=(X_TEST, y_test),\n",
        "          shuffle=True)"
      ],
      "execution_count": 40,
      "outputs": [
        {
          "output_type": "error",
          "ename": "ModuleNotFoundError",
          "evalue": "No module named 'keras.wrappers'",
          "traceback": [
            "\u001b[0;31m---------------------------------------------------------------------------\u001b[0m",
            "\u001b[0;31mModuleNotFoundError\u001b[0m                       Traceback (most recent call last)",
            "\u001b[0;32m<ipython-input-40-c191a1def968>\u001b[0m in \u001b[0;36m<cell line: 6>\u001b[0;34m()\u001b[0m\n\u001b[1;32m      4\u001b[0m \u001b[0;32mfrom\u001b[0m \u001b[0mkeras\u001b[0m\u001b[0;34m.\u001b[0m\u001b[0mmodels\u001b[0m \u001b[0;32mimport\u001b[0m \u001b[0mSequential\u001b[0m\u001b[0;34m\u001b[0m\u001b[0;34m\u001b[0m\u001b[0m\n\u001b[1;32m      5\u001b[0m \u001b[0;32mfrom\u001b[0m \u001b[0mkeras\u001b[0m\u001b[0;34m.\u001b[0m\u001b[0mlayers\u001b[0m \u001b[0;32mimport\u001b[0m \u001b[0mActivation\u001b[0m\u001b[0;34m,\u001b[0m \u001b[0mMaxPooling2D\u001b[0m\u001b[0;34m,\u001b[0m \u001b[0mDropout\u001b[0m\u001b[0;34m,\u001b[0m \u001b[0mFlatten\u001b[0m\u001b[0;34m,\u001b[0m \u001b[0mReshape\u001b[0m\u001b[0;34m,\u001b[0m \u001b[0mDense\u001b[0m\u001b[0;34m,\u001b[0m \u001b[0mConv2D\u001b[0m\u001b[0;34m,\u001b[0m \u001b[0mGlobalAveragePooling2D\u001b[0m\u001b[0;34m\u001b[0m\u001b[0;34m\u001b[0m\u001b[0m\n\u001b[0;32m----> 6\u001b[0;31m \u001b[0;32mfrom\u001b[0m \u001b[0mkeras\u001b[0m\u001b[0;34m.\u001b[0m\u001b[0mwrappers\u001b[0m\u001b[0;34m.\u001b[0m\u001b[0mscikit_learn\u001b[0m \u001b[0;32mimport\u001b[0m \u001b[0mKerasClassifier\u001b[0m\u001b[0;34m\u001b[0m\u001b[0;34m\u001b[0m\u001b[0m\n\u001b[0m\u001b[1;32m      7\u001b[0m \u001b[0;32mfrom\u001b[0m \u001b[0mkeras\u001b[0m\u001b[0;34m.\u001b[0m\u001b[0mapplications\u001b[0m\u001b[0;34m.\u001b[0m\u001b[0mvgg16\u001b[0m \u001b[0;32mimport\u001b[0m \u001b[0mVGG16\u001b[0m\u001b[0;34m\u001b[0m\u001b[0;34m\u001b[0m\u001b[0m\n\u001b[1;32m      8\u001b[0m \u001b[0;34m\u001b[0m\u001b[0m\n",
            "\u001b[0;31mModuleNotFoundError\u001b[0m: No module named 'keras.wrappers'",
            "",
            "\u001b[0;31m---------------------------------------------------------------------------\u001b[0;32m\nNOTE: If your import is failing due to a missing package, you can\nmanually install dependencies using either !pip or !apt.\n\nTo view examples of installing some common dependencies, click the\n\"Open Examples\" button below.\n\u001b[0;31m---------------------------------------------------------------------------\u001b[0m\n"
          ],
          "errorDetails": {
            "actions": [
              {
                "action": "open_url",
                "actionText": "Open Examples",
                "url": "/notebooks/snippets/importing_libraries.ipynb"
              }
            ]
          }
        }
      ]
    },
    {
      "cell_type": "markdown",
      "metadata": {
        "id": "rwABV9sHAclF"
      },
      "source": [
        "###Evaluate model"
      ]
    },
    {
      "cell_type": "code",
      "metadata": {
        "id": "5RbEG39NopT9"
      },
      "source": [
        "# YOUR CODE HERE"
      ],
      "execution_count": null,
      "outputs": []
    },
    {
      "cell_type": "code",
      "metadata": {
        "id": "tVFzVXRHGQxs",
        "cellView": "form"
      },
      "source": [
        "#@title Instructor Solution\n",
        "vgg_performance = vgg_model.evaluate(X_TEST, y_test, batch_size=64)"
      ],
      "execution_count": null,
      "outputs": []
    },
    {
      "cell_type": "markdown",
      "metadata": {
        "id": "EjquMpMmAZEo"
      },
      "source": [
        "###Visualize accuracy and loss over training + display best model's performance"
      ]
    },
    {
      "cell_type": "code",
      "metadata": {
        "id": "OflGd8RFsrTX"
      },
      "source": [
        "# YOUR CODE HERE"
      ],
      "execution_count": null,
      "outputs": []
    },
    {
      "cell_type": "code",
      "metadata": {
        "id": "-9NAQfkDGV5D",
        "cellView": "form"
      },
      "source": [
        "#@title Instructor Solution\n",
        "plot_graphs(vgg_history, vgg_performance)"
      ],
      "execution_count": null,
      "outputs": []
    },
    {
      "cell_type": "code",
      "metadata": {
        "id": "60FJChkPc7iY"
      },
      "source": [
        "compare_learning(mlp_history, lm_history, cnn_history, vgg_history)"
      ],
      "execution_count": null,
      "outputs": []
    },
    {
      "cell_type": "markdown",
      "source": [
        "### Save model for App Development"
      ],
      "metadata": {
        "id": "rF6orKrxtcPQ"
      }
    },
    {
      "cell_type": "code",
      "source": [
        "from google.colab import drive\n",
        "drive.mount('/content/gdrive')\n",
        "save_path = F\"/content/gdrive/My Drive/cnn_model.zip\"\n",
        "\n",
        "tf.keras.models.save_model(cnn_model,'cnn_model')\n",
        "import zipfile\n",
        "\n",
        "import os\n",
        "import zipfile\n",
        "\n",
        "def zipdir(path, ziph):\n",
        "    for root, dirs, files in os.walk(path):\n",
        "        for file in files:\n",
        "            ziph.write(os.path.join(root, file))\n",
        "\n",
        "\n",
        "zipf = zipfile.ZipFile(save_path, 'w', zipfile.ZIP_DEFLATED)\n",
        "zipdir('cnn_model', zipf)\n",
        "zipf.close()"
      ],
      "metadata": {
        "id": "lXBvezKStgLA"
      },
      "execution_count": null,
      "outputs": []
    },
    {
      "cell_type": "markdown",
      "metadata": {
        "id": "y2qlLKUhfxlw"
      },
      "source": [
        "## Optional Instructor Appendix: Code to determine some reference accuracy scores"
      ]
    },
    {
      "cell_type": "code",
      "metadata": {
        "id": "pom2p1w0a9f0"
      },
      "source": [
        "from sklearn.neighbors import KNeighborsClassifier\n",
        "\n",
        "# pixel-based knn classification accuracy... this will take a few minutes\n",
        "knn_pixel = KNeighborsClassifier(n_neighbors=3)\n",
        "knn_pixel.fit(X_train, y_train)\n",
        "knn_predictions_pixel = knn_pixel.predict(X_test)\n",
        "knn_accuracy_pixel = np.mean(knn_predictions_pixel.argmax(1) == y_test.argmax(1))\n",
        "\n",
        "# landmark-based knn classification accuracy... this will take a few minutes\n",
        "knn_lm = KNeighborsClassifier(n_neighbors=3)\n",
        "knn_lm.fit(X_train_lm, y_train_lm)\n",
        "knn_predictions_lm = knn_lm.predict(X_test_lm)\n",
        "knn_accuracy_lm = np.mean( knn_predictions_lm.argmax(1) == y_test_lm.argmax(1))\n",
        "\n",
        "# chance accuracy\n",
        "chance_accuracy = 1/n_labels\n",
        "\n",
        "# human accuracy\n",
        "human_accuracy = .65"
      ],
      "execution_count": null,
      "outputs": []
    },
    {
      "cell_type": "code",
      "metadata": {
        "id": "ZGeWzybl_Kpi"
      },
      "source": [
        "def compare_learning(mlp, lm, cnn, vgg, benchmarks):\n",
        "\n",
        "  plt.figure(figsize=[7, 5])\n",
        "\n",
        "  # summarize history for accuracy\n",
        "\n",
        "  plt.xticks(range(4, epochs+1,5), range(5, epochs+1,5) )\n",
        "\n",
        "  plt.title('Performance of multiple models across training', y=1.05, fontsize=15)\n",
        "\n",
        "  plt.ylim([.15, .72])\n",
        "\n",
        "  plt.plot(lm.history['val_accuracy'], linestyle='-', color='purple', )\n",
        "  plt.plot(mlp.history['val_accuracy'], linestyle='--', color='purple')\n",
        "\n",
        "  plt.plot(vgg.history['val_accuracy'],color='blue', linestyle='-', linewidth=2)\n",
        "  plt.plot(cnn.history['val_accuracy'],color='red', linestyle='-', linewidth=2)\n",
        "\n",
        "  plt.ylabel('Accuracy', fontsize=15)\n",
        "  plt.xlabel('Training Epoch', fontsize=15)\n",
        "\n",
        "\n",
        "  plt.legend(['MLP''$_{landmarks}$', 'MLP''$_{pixels}$', 'CNN''$_{pretrained}$', 'CNN''$_{from.scratch}$'],\n",
        "             framealpha=0, title_fontsize=9,loc=8)\n",
        "\n",
        "  plt.xticks(range(4, epochs+1,5), range(5, epochs+1,5) )\n",
        "  plt.ylim([.11, .72])\n",
        "\n",
        "  for i_benchmark in benchmarks:\n",
        "    plt.scatter(x=epochs, y=references[i_benchmark], color='black', marker='_', s=200)\n",
        "    plt.annotate('%s: %d%%'%( i_benchmark, references[i_benchmark] *100), xy=(epochs+1, references[i_benchmark]-.005), size=10, color='black', ha='left')\n",
        "  plt.annotate('Important References', xy=(epochs+.5, .69), size=10, color='black', ha='left', fontweight='bold')\n",
        "\n",
        "  plt.ylim([.11, .72])\n",
        "  plt.gca().spines['right'].set_color('none')\n",
        "  plt.gca().spines['top'].set_color('none')\n",
        "\n",
        "  plt.show()"
      ],
      "execution_count": null,
      "outputs": []
    },
    {
      "cell_type": "code",
      "metadata": {
        "id": "TgWZro30q0dt"
      },
      "source": [
        "references = {'$KNN_{pixel}$ Accuracy': knn_accuracy_pixel, '$KNN_{landmark}$ Accuracy': knn_accuracy_lm, 'Human Accuracy': human_accuracy, 'chance': chance_accuracy}"
      ],
      "execution_count": null,
      "outputs": []
    },
    {
      "cell_type": "code",
      "metadata": {
        "id": "A-V2HVMOGRZ-"
      },
      "source": [
        "compare_learning(mlp_history, lm_history, cnn_history, vgg_history, references)"
      ],
      "execution_count": null,
      "outputs": []
    },
    {
      "cell_type": "markdown",
      "metadata": {
        "id": "-kmm2fWDBtfW"
      },
      "source": [
        "##How can we explain this pattern of performance across all these models?"
      ]
    },
    {
      "cell_type": "markdown",
      "metadata": {
        "id": "SRW9UiFbBoAK"
      },
      "source": [
        "# Finished :D"
      ]
    }
  ]
}